{
 "cells": [
  {
   "cell_type": "markdown",
   "metadata": {},
   "source": [
    "\\begin{equation}\\LARGE\n",
    "X_{t+1,i,j}=\\left\\{\\begin{array}{lr}p\\small_{gBest,j} \\LARGE\\  \\ \\  if\\ \\rho_{[0,1]}\\epsilon [0,C_g)\\\\p\\small_{i,j} \\LARGE\\  \\ \\ \\ \\ \\ if\\ \\rho_{[0,1]}\\epsilon [C_g,C_p)\\\\x\\small_{t,i,j} \\LARGE\\  \\ \\ \\ \\  if\\ \\rho_{[0,1]}\\epsilon [Cp,C_w)\\\\x\\small_{gBest,j} \\LARGE\\  \\ \\  if\\ \\rho_{[0,1]}\\epsilon [Cw,1]\\\\\\end{array}\\right.\\end{equation}"
   ]
  },
  {
   "cell_type": "code",
   "execution_count": null,
   "metadata": {},
   "outputs": [],
   "source": []
  }
 ],
 "metadata": {
  "kernelspec": {
   "display_name": "Python 3",
   "language": "python",
   "name": "python3"
  },
  "language_info": {
   "codemirror_mode": {
    "name": "ipython",
    "version": 3
   },
   "file_extension": ".py",
   "mimetype": "text/x-python",
   "name": "python",
   "nbconvert_exporter": "python",
   "pygments_lexer": "ipython3",
   "version": "3.7.4"
  }
 },
 "nbformat": 4,
 "nbformat_minor": 4
}
